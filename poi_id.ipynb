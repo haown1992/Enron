{
 "cells": [
  {
   "cell_type": "markdown",
   "metadata": {},
   "source": [
    "### 载入数据"
   ]
  },
  {
   "cell_type": "code",
   "execution_count": 1,
   "metadata": {
    "collapsed": false,
    "scrolled": true
   },
   "outputs": [
    {
     "name": "stderr",
     "output_type": "stream",
     "text": [
      "D:\\Anaconda3\\lib\\site-packages\\sklearn\\cross_validation.py:44: DeprecationWarning: This module was deprecated in version 0.18 in favor of the model_selection module into which all the refactored classes and functions are moved. Also note that the interface of the new CV iterators are different from that of this module. This module will be removed in 0.20.\n",
      "  \"This module will be removed in 0.20.\", DeprecationWarning)\n"
     ]
    }
   ],
   "source": [
    "import sys\n",
    "import pickle\n",
    "sys.path.append(r\"G:\\Udacity 数据分析（进阶）\\P5 机器学习\\ud120-projects-master\\tools\")\n",
    "sys.path.append(r\"G:\\Udacity 数据分析（进阶）\\P5 机器学习\\最终项目\") # ‘final_project_dataset.pkl’在该文件夹下\n",
    "from feature_format import featureFormat, targetFeatureSplit\n",
    "from tester import dump_classifier_and_data,test_classifier\n",
    "import matplotlib.pyplot\n",
    "from sklearn.feature_selection import SelectPercentile,SelectKBest\n",
    "import numpy as np\n",
    "import pandas as pd\n",
    "from sklearn.model_selection import GridSearchCV\n",
    "from sklearn.pipeline import Pipeline\n",
    "\n",
    "### Load the dictionary containing the dataset\n",
    "with open(\"final_project_dataset.pkl\", \"rb\") as data_file:\n",
    "    data_dict = pickle.load(data_file)\n"
   ]
  },
  {
   "cell_type": "markdown",
   "metadata": {},
   "source": [
    "### 理解数据集"
   ]
  },
  {
   "cell_type": "markdown",
   "metadata": {},
   "source": [
    "#### 数据点总数为146；特征总数为20；poi数量为18，非poi数量为128，该数据集非常不平衡，所以最终评估时应该使用Recall和Precision指标；有很多特征都存在缺失值"
   ]
  },
  {
   "cell_type": "code",
   "execution_count": 2,
   "metadata": {
    "collapsed": false,
    "scrolled": true
   },
   "outputs": [
    {
     "name": "stdout",
     "output_type": "stream",
     "text": [
      "数据点总数 146\n",
      "特征总数 20\n",
      "poi数量 18\n",
      "非poi数量 128\n"
     ]
    }
   ],
   "source": [
    "\n",
    "# 数据点总数\n",
    "print(\"数据点总数\",len(data_dict))\n",
    "\n",
    "# 特征总数\n",
    "print(\"特征总数\",len(data_dict['HANNON KEVIN P'])-1)\n",
    "\n",
    "data_poi = []\n",
    "data_nan = []\n",
    "\n",
    "for i in data_dict:    \n",
    "    # poi及非poi数量\n",
    "    if data_dict[i]['poi'] == True:\n",
    "        data_poi.append(i)\n",
    "        \n",
    "    # 哪些特征存在缺失值\n",
    "    for ii,jj in data_dict[i].items():\n",
    "        if jj == \"NaN\":\n",
    "            data_nan.append(ii)\n",
    "\n",
    "print(\"poi数量\",len(data_poi))\n",
    "print(\"非poi数量\",len(data_dict)-len(data_poi))\n"
   ]
  },
  {
   "cell_type": "markdown",
   "metadata": {},
   "source": [
    "### 构造新特征"
   ]
  },
  {
   "cell_type": "markdown",
   "metadata": {},
   "source": [
    "#### 在特征选择时会对新特征性能进行测试"
   ]
  },
  {
   "cell_type": "code",
   "execution_count": 3,
   "metadata": {
    "collapsed": false,
    "scrolled": true
   },
   "outputs": [],
   "source": [
    "### Task 3: Create new feature(s)\n",
    "### Store to my_dataset for easy export below.\n",
    "my_dataset = data_dict\n",
    "\n",
    "def fraction(poi,all):\n",
    "    if all == 'NaN':\n",
    "        fraction_poi = 0\n",
    "    else:\n",
    "        fraction_poi = poi/all\n",
    "    return fraction_poi\n",
    "\n",
    "for i in data_dict:\n",
    "    my_dataset[i]['fraction_from_poi'] = fraction(my_dataset[i]['from_poi_to_this_person'],my_dataset[i]['to_messages'])\n",
    "    my_dataset[i]['fraction_to_poi'] = fraction(my_dataset[i]['from_this_person_to_poi'],my_dataset[i]['from_messages'])\n"
   ]
  },
  {
   "cell_type": "markdown",
   "metadata": {},
   "source": [
    "### 清除异常值"
   ]
  },
  {
   "cell_type": "markdown",
   "metadata": {},
   "source": [
    "#### 通过可视化，发现异常值为“TOTAL”，遂将其删除。此外还有“THE TRAVEL AGENCY IN THE PARK”，其不是一个人；“LOCKHART EUGENE E”其值全为‘NaN’"
   ]
  },
  {
   "cell_type": "code",
   "execution_count": 4,
   "metadata": {
    "collapsed": false,
    "scrolled": true
   },
   "outputs": [
    {
     "data": {
      "image/png": "[encoded data removed]",
      "text/plain": [
       "<matplotlib.figure.Figure at 0x1f9c375bb00>"
      ]
     },
     "metadata": {},
     "output_type": "display_data"
    },
    {
     "data": {
      "text/plain": [
       "{'bonus': 'NaN',\n",
       " 'deferral_payments': 'NaN',\n",
       " 'deferred_income': 'NaN',\n",
       " 'director_fees': 'NaN',\n",
       " 'email_address': 'NaN',\n",
       " 'exercised_stock_options': 'NaN',\n",
       " 'expenses': 'NaN',\n",
       " 'fraction_from_poi': 0,\n",
       " 'fraction_to_poi': 0,\n",
       " 'from_messages': 'NaN',\n",
       " 'from_poi_to_this_person': 'NaN',\n",
       " 'from_this_person_to_poi': 'NaN',\n",
       " 'loan_advances': 'NaN',\n",
       " 'long_term_incentive': 'NaN',\n",
       " 'other': 362096,\n",
       " 'poi': False,\n",
       " 'restricted_stock': 'NaN',\n",
       " 'restricted_stock_deferred': 'NaN',\n",
       " 'salary': 'NaN',\n",
       " 'shared_receipt_with_poi': 'NaN',\n",
       " 'to_messages': 'NaN',\n",
       " 'total_payments': 362096,\n",
       " 'total_stock_value': 'NaN'}"
      ]
     },
     "execution_count": 4,
     "metadata": {},
     "output_type": "execute_result"
    }
   ],
   "source": [
    "### Task 2: Remove outliers\n",
    "%matplotlib inline\n",
    "\n",
    "features_list = ['poi','salary','bonus','total_payments','deferral_payments','exercised_stock_options',\\\n",
    "                     'restricted_stock','restricted_stock_deferred','total_stock_value','expenses',\\\n",
    "                     'other','director_fees','loan_advances','deferred_income','long_term_incentive',\\\n",
    "                     'from_poi_to_this_person','from_this_person_to_poi','to_messages','from_messages',\\\n",
    "                     'shared_receipt_with_poi','fraction_from_poi','fraction_to_poi'] # You will need to use more features\n",
    "\n",
    "data = featureFormat(my_dataset, features_list,sort_keys=True)\n",
    "labels, features = targetFeatureSplit(data)\n",
    "\n",
    "for point in data:\n",
    "    salary = point[1]\n",
    "    bonus = point[2]\n",
    "    matplotlib.pyplot.scatter( salary, bonus )\n",
    "#     print(salary,bonus)\n",
    "matplotlib.pyplot.xlabel(\"salary\")\n",
    "matplotlib.pyplot.ylabel(\"bonus\")\n",
    "matplotlib.pyplot.show()\n",
    "my_dataset.pop(\"TOTAL\")\n",
    "my_dataset.pop(\"LOCKHART EUGENE E\")\n",
    "my_dataset.pop(\"THE TRAVEL AGENCY IN THE PARK\")"
   ]
  },
  {
   "cell_type": "markdown",
   "metadata": {},
   "source": [
    "### 特征选择"
   ]
  },
  {
   "cell_type": "markdown",
   "metadata": {},
   "source": [
    "#### 通过打印特征得分可以得出新特征得分分别为‘24.8’、‘24.2’、 ‘20.8’、‘18.3’、‘16.4’"
   ]
  },
  {
   "cell_type": "code",
   "execution_count": 5,
   "metadata": {
    "collapsed": false
   },
   "outputs": [
    {
     "name": "stdout",
     "output_type": "stream",
     "text": [
      "[ 18.28968404  20.79225205   8.77277773   0.22461127  24.81507973\n",
      "   9.21281062   0.06549965  24.18289868   6.09417331   4.18747751\n",
      "   2.1263278    7.18405566  11.45847658   9.92218601   5.24344971\n",
      "   2.38261211   1.64634113   0.16970095   8.58942073   3.12809175\n",
      "  16.40971255]\n",
      "[[  2.01955000e+05   4.17500000e+06   1.72954100e+06   1.72954100e+06\n",
      "    2.96127563e-02]\n",
      " [  0.00000000e+00   0.00000000e+00   2.57817000e+05   2.57817000e+05\n",
      "    0.00000000e+00]\n",
      " [  4.77000000e+02   0.00000000e+00   4.04615700e+06   5.24348700e+06\n",
      "    0.00000000e+00]\n",
      " [  2.67102000e+05   1.20000000e+06   6.68054400e+06   1.06232580e+07\n",
      "    0.00000000e+00]\n",
      " [  2.39671000e+05   4.00000000e+05   0.00000000e+00   6.30140000e+04\n",
      "    0.00000000e+00]\n",
      " [  8.08180000e+04   0.00000000e+00   1.59964100e+06   1.59964100e+06\n",
      "    0.00000000e+00]\n",
      " [  2.31330000e+05   7.00000000e+05   0.00000000e+00   1.26027000e+05\n",
      "    8.88786553e-02]\n",
      " [  2.13999000e+05   5.24999900e+06   9.53136000e+05   1.11070500e+06\n",
      "    2.23140496e-01]\n",
      " [  0.00000000e+00   0.00000000e+00   3.28500000e+03  -4.40930000e+04\n",
      "    0.00000000e+00]\n",
      " [  2.16582000e+05   0.00000000e+00   1.62439600e+06   2.49361600e+06\n",
      "    0.00000000e+00]\n",
      " [  1.87922000e+05   2.50000000e+05   0.00000000e+00   6.59249000e+05\n",
      "    0.00000000e+00]\n",
      " [  0.00000000e+00   0.00000000e+00   2.60449000e+06   0.00000000e+00\n",
      "    3.44827586e-02]\n",
      " [  2.13625000e+05   1.00000000e+06   1.46573400e+06   1.84381600e+06\n",
      "    2.00000000e-01]\n",
      " [  2.48546000e+05   8.50000000e+05   7.65313000e+05   9.54354000e+05\n",
      "    1.42857143e-01]\n",
      " [  0.00000000e+00   0.00000000e+00   0.00000000e+00   0.00000000e+00\n",
      "    0.00000000e+00]\n",
      " [  2.78601000e+05   1.35000000e+06   0.00000000e+00   2.52055000e+05\n",
      "    5.55555556e-01]\n",
      " [  0.00000000e+00   0.00000000e+00   0.00000000e+00   0.00000000e+00\n",
      "    2.43902439e-02]\n",
      " [  2.48017000e+05   5.00000000e+05   8.25464000e+05   1.01450500e+06\n",
      "    0.00000000e+00]\n",
      " [  2.61516000e+05   7.50000000e+05   0.00000000e+00   4.17619000e+05\n",
      "    0.00000000e+00]\n",
      " [  3.30546000e+05   9.00000000e+05   2.54281300e+06   3.44447000e+06\n",
      "    6.74264008e-02]\n",
      " [  2.40189000e+05   1.25000000e+06   0.00000000e+00   1.26027000e+05\n",
      "    1.73611111e-01]\n",
      " [  2.61809000e+05   3.00000000e+05   0.00000000e+00   0.00000000e+00\n",
      "    4.66666667e-01]\n",
      " [  4.15189000e+05   1.00000000e+06   0.00000000e+00   2.50206300e+06\n",
      "    2.44897959e-01]\n",
      " [  0.00000000e+00   0.00000000e+00   0.00000000e+00   0.00000000e+00\n",
      "    0.00000000e+00]\n",
      " [  0.00000000e+00   0.00000000e+00   5.12715500e+06   6.07788500e+06\n",
      "    0.00000000e+00]\n",
      " [  0.00000000e+00   0.00000000e+00   0.00000000e+00   1.89518000e+05\n",
      "    0.00000000e+00]\n",
      " [  2.88542000e+05   1.20000000e+06   0.00000000e+00   6.98242000e+05\n",
      "    2.75000000e-01]\n",
      " [  0.00000000e+00   0.00000000e+00   6.51850000e+05   1.03818500e+06\n",
      "    0.00000000e+00]\n",
      " [  3.14288000e+05   8.00000000e+05   1.17551000e+05   4.95633000e+05\n",
      "    1.21212121e-01]\n",
      " [  1.84899000e+05   3.25000000e+05   0.00000000e+00   2.07940000e+05\n",
      "    0.00000000e+00]\n",
      " [  2.06121000e+05   6.00000000e+05   1.73780000e+04   1.59211000e+05\n",
      "    5.40540541e-02]\n",
      " [  3.65163000e+05   3.00000000e+06   2.29111300e+06   3.61426100e+06\n",
      "    1.98435973e-01]\n",
      " [  4.92375000e+05   8.00000000e+05   8.83191300e+06   8.83191300e+06\n",
      "    2.20022002e-02]\n",
      " [  2.10500000e+05   4.25000000e+05   2.02786500e+06   2.02786500e+06\n",
      "    0.00000000e+00]\n",
      " [  2.50100000e+05   6.00000000e+05   1.55001900e+06   1.86508700e+06\n",
      "    2.22222222e-01]\n",
      " [  2.62788000e+05   1.00000000e+06   8.19175500e+06   8.31778200e+06\n",
      "    0.00000000e+00]\n",
      " [  2.21003000e+05   7.00000000e+04   0.00000000e+00   0.00000000e+00\n",
      "    2.14285714e-01]\n",
      " [  2.78601000e+05   8.00000000e+05   7.65920000e+05   1.08098800e+06\n",
      "    5.00000000e-01]\n",
      " [  0.00000000e+00   0.00000000e+00   3.71750000e+05   3.71750000e+05\n",
      "    0.00000000e+00]\n",
      " [  2.10692000e+05   7.50000000e+05   1.45186900e+06   1.64091000e+06\n",
      "    2.50000000e-01]\n",
      " [  1.82245000e+05   2.00000000e+05   6.01438000e+05   1.00894100e+06\n",
      "    0.00000000e+00]\n",
      " [  1.70941000e+05   3.50000000e+05   4.89034400e+06   6.67873500e+06\n",
      "    0.00000000e+00]\n",
      " [  3.04588000e+05   2.50000000e+06   9.40257000e+05   2.33239900e+06\n",
      "    4.93333333e-01]\n",
      " [  4.40698000e+05   1.30000000e+06   0.00000000e+00   1.79441200e+06\n",
      "    0.00000000e+00]\n",
      " [  1.99157000e+05   3.50000000e+05   6.64461000e+05   1.62123600e+06\n",
      "    5.00000000e-01]\n",
      " [  0.00000000e+00   0.00000000e+00   1.32457800e+06   1.88474800e+06\n",
      "    0.00000000e+00]\n",
      " [  0.00000000e+00   0.00000000e+00   3.43434000e+05   3.43434000e+05\n",
      "    0.00000000e+00]\n",
      " [  1.06093200e+06   2.00000000e+06   1.04335180e+07   1.46221850e+07\n",
      "    2.85714286e-01]\n",
      " [  0.00000000e+00   0.00000000e+00   1.76378000e+05   1.76378000e+05\n",
      "    0.00000000e+00]\n",
      " [  1.92008000e+05   5.09870000e+05   8.32370000e+04   3.18607000e+05\n",
      "    0.00000000e+00]\n",
      " [  2.31946000e+05   8.50000000e+05   6.36246000e+05   8.96153000e+05\n",
      "    6.13636364e-01]\n",
      " [  0.00000000e+00   0.00000000e+00   1.75376600e+06   1.94536000e+06\n",
      "    0.00000000e+00]\n",
      " [  0.00000000e+00   0.00000000e+00   2.21827500e+06   2.21827500e+06\n",
      "    0.00000000e+00]\n",
      " [  0.00000000e+00   0.00000000e+00   9.80300000e+03   8.56410000e+04\n",
      "    0.00000000e+00]\n",
      " [  2.74975000e+05   6.00000000e+05   3.84728000e+05   7.78546000e+05\n",
      "    3.75000000e-01]\n",
      " [  2.72880000e+05   7.50000000e+05   4.36515000e+05   8.77611000e+05\n",
      "    0.00000000e+00]\n",
      " [  0.00000000e+00   0.00000000e+00   0.00000000e+00   0.00000000e+00\n",
      "    0.00000000e+00]\n",
      " [  6.61500000e+03   0.00000000e+00   0.00000000e+00   0.00000000e+00\n",
      "    0.00000000e+00]\n",
      " [  3.74125000e+05   1.15000000e+06   6.08750000e+05   8.03094000e+05\n",
      "    3.14270994e-02]\n",
      " [  2.43293000e+05   1.50000000e+06   5.53800100e+06   6.39106500e+06\n",
      "    6.56250000e-01]\n",
      " [  0.00000000e+00   0.00000000e+00   0.00000000e+00   2.21729900e+06\n",
      "    3.68421053e-01]\n",
      " [  0.00000000e+00   0.00000000e+00   0.00000000e+00   1.51418000e+05\n",
      "    0.00000000e+00]\n",
      " [  0.00000000e+00   0.00000000e+00   0.00000000e+00   3.46663000e+05\n",
      "    3.58152686e-02]\n",
      " [  2.62663000e+05   7.00000000e+05   1.87500000e+05   6.68132000e+05\n",
      "    0.00000000e+00]\n",
      " [  2.11788000e+05   1.70000000e+06   0.00000000e+00   4.41096000e+05\n",
      "    3.70370370e-02]\n",
      " [  0.00000000e+00   0.00000000e+00   3.07660640e+07   3.07660640e+07\n",
      "    0.00000000e+00]\n",
      " [  0.00000000e+00   0.00000000e+00   5.21056900e+06   7.25664800e+06\n",
      "    1.39794967e-02]\n",
      " [  0.00000000e+00   0.00000000e+00   7.54966000e+05   1.11839400e+06\n",
      "    1.47058824e-01]\n",
      " [  1.30724000e+05   0.00000000e+00   2.28276800e+06   2.28276800e+06\n",
      "    1.00000000e+00]\n",
      " [  8.52740000e+04   0.00000000e+00   2.16517200e+06   5.81998000e+06\n",
      "    2.63157895e-01]\n",
      " [  2.88558000e+05   2.50000000e+05   1.85063000e+05   7.25735000e+05\n",
      "    3.39285714e-01]\n",
      " [  0.00000000e+00   0.00000000e+00   4.31750000e+05   4.31750000e+05\n",
      "    0.00000000e+00]\n",
      " [  2.75101000e+05   4.00000000e+05   8.50010000e+05   9.76037000e+05\n",
      "    1.19014477e-02]\n",
      " [  4.04338000e+05   1.00000000e+06   2.02204800e+06   6.15364200e+06\n",
      "    5.72569907e-02]\n",
      " [  1.74246000e+05   0.00000000e+00   0.00000000e+00   1.03434600e+06\n",
      "    0.00000000e+00]\n",
      " [  2.71442000e+05   3.10000000e+06   8.10420000e+04   5.47143000e+05\n",
      "    1.12268519e-01]\n",
      " [  3.09946000e+05   7.00000000e+05   6.71737000e+05   1.92005500e+06\n",
      "    2.45901639e-01]\n",
      " [  2.24305000e+05   8.00000000e+05   0.00000000e+00   9.85032000e+05\n",
      "    0.00000000e+00]\n",
      " [  3.39288000e+05   8.00000000e+06   4.15899500e+06   5.16714400e+06\n",
      "    1.58994197e-01]\n",
      " [  1.07232100e+06   7.00000000e+06   3.43483840e+07   4.91100780e+07\n",
      "    4.44444444e-01]\n",
      " [  2.73746000e+05   1.00000000e+06   0.00000000e+00   3.60528000e+05\n",
      "    2.22222222e-01]\n",
      " [  0.00000000e+00   0.00000000e+00   4.12878000e+05   4.12878000e+05\n",
      "    0.00000000e+00]\n",
      " [  0.00000000e+00   0.00000000e+00   8.50477000e+05   8.50477000e+05\n",
      "    0.00000000e+00]\n",
      " [  2.36457000e+05   2.00000000e+05   2.54936100e+06   3.06420800e+06\n",
      "    0.00000000e+00]\n",
      " [  0.00000000e+00   0.00000000e+00   3.72205000e+05   3.72205000e+05\n",
      "    0.00000000e+00]\n",
      " [  3.49487000e+05   0.00000000e+00   2.07030600e+06   2.07030600e+06\n",
      "    0.00000000e+00]\n",
      " [  0.00000000e+00   0.00000000e+00   6.64375000e+05   7.58931000e+05\n",
      "    9.30232558e-03]\n",
      " [  2.63413000e+05   9.00000000e+05   5.06765000e+05   9.47861000e+05\n",
      "    0.00000000e+00]\n",
      " [  3.65038000e+05   1.10000000e+06   1.62301000e+06   3.10127900e+06\n",
      "    7.07512764e-02]\n",
      " [  0.00000000e+00   0.00000000e+00   7.57301000e+05   1.69136600e+06\n",
      "    7.69230769e-02]\n",
      " [  3.70448000e+05   2.60000000e+06   1.10405400e+06   1.66285500e+06\n",
      "    5.41666667e-01]\n",
      " [  0.00000000e+00   0.00000000e+00   0.00000000e+00   0.00000000e+00\n",
      "    0.00000000e+00]\n",
      " [  3.65788000e+05   6.00000000e+05   0.00000000e+00   5.85062000e+05\n",
      "    3.44827586e-02]\n",
      " [  0.00000000e+00   0.00000000e+00   0.00000000e+00   0.00000000e+00\n",
      "    0.00000000e+00]\n",
      " [  0.00000000e+00   0.00000000e+00   4.93489000e+05   9.55873000e+05\n",
      "    0.00000000e+00]\n",
      " [  0.00000000e+00   0.00000000e+00   5.95390000e+04   2.21141000e+05\n",
      "    0.00000000e+00]\n",
      " [  2.67093000e+05   3.25000000e+05   0.00000000e+00   2.08510000e+05\n",
      "    0.00000000e+00]\n",
      " [  2.51654000e+05   1.10000000e+06   1.05632000e+06   1.41684800e+06\n",
      "    0.00000000e+00]\n",
      " [  2.29284000e+05   4.00000000e+05   4.00478000e+05   5.97461000e+05\n",
      "    4.44444444e-02]\n",
      " [  0.00000000e+00   0.00000000e+00   0.00000000e+00   3.68705000e+05\n",
      "    0.00000000e+00]\n",
      " [  3.29078000e+05   7.50000000e+05   1.63703400e+06   2.60676300e+06\n",
      "    2.88461538e-01]\n",
      " [  9.49410000e+04   0.00000000e+00   5.26657800e+06   7.30759400e+06\n",
      "    0.00000000e+00]\n",
      " [  2.61879000e+05   1.00000000e+06   1.53641670e+07   2.38179300e+07\n",
      "    0.00000000e+00]\n",
      " [  0.00000000e+00   0.00000000e+00   0.00000000e+00   0.00000000e+00\n",
      "    0.00000000e+00]\n",
      " [  6.55037000e+05   3.00000000e+05   2.87980000e+04   2.87980000e+04\n",
      "    0.00000000e+00]\n",
      " [  1.97091000e+05   4.00000000e+05   8.80290000e+05   8.80290000e+05\n",
      "    2.16216216e-01]\n",
      " [  0.00000000e+00   0.00000000e+00   0.00000000e+00   4.73040000e+04\n",
      "    6.25000000e-02]\n",
      " [  0.00000000e+00   0.00000000e+00   0.00000000e+00   0.00000000e+00\n",
      "    0.00000000e+00]\n",
      " [  0.00000000e+00   0.00000000e+00   8.86231000e+05   1.09504000e+06\n",
      "    0.00000000e+00]\n",
      " [  9.68400000e+04   0.00000000e+00   7.50903900e+06   7.89032400e+06\n",
      "    2.21719457e-01]\n",
      " [  7.63990000e+04   1.00000000e+05   4.16067200e+06   4.22189100e+06\n",
      "    0.00000000e+00]\n",
      " [  4.20636000e+05   1.75000000e+06   1.97941750e+07   2.25425390e+07\n",
      "    2.22222222e-01]\n",
      " [  2.49201000e+05   7.00000000e+05   1.63523800e+06   1.91888700e+06\n",
      "    5.85365854e-01]\n",
      " [  0.00000000e+00   0.00000000e+00   0.00000000e+00   0.00000000e+00\n",
      "    0.00000000e+00]\n",
      " [  0.00000000e+00   0.00000000e+00   7.59557000e+05   7.59557000e+05\n",
      "    0.00000000e+00]\n",
      " [  3.04110000e+05   2.00000000e+06   1.44189800e+06   2.07203500e+06\n",
      "    3.09585975e-02]\n",
      " [  2.69076000e+05   6.50000000e+05   6.07837000e+05   9.87001000e+05\n",
      "    5.34979424e-02]\n",
      " [  2.48146000e+05   6.00000000e+05   2.81073000e+05   4.94136000e+05\n",
      "    4.41176471e-02]\n",
      " [  2.11844000e+05   2.00000000e+05   1.62439600e+06   2.49361600e+06\n",
      "    3.58974359e-01]\n",
      " [  0.00000000e+00   0.00000000e+00   1.42646900e+06   1.83246800e+06\n",
      "    7.20000000e-01]\n",
      " [  4.28780000e+05   1.50000000e+06   1.83555800e+06   3.12898200e+06\n",
      "    2.50000000e-01]\n",
      " [  1.11125800e+06   5.60000000e+06   1.92500000e+07   2.60936720e+07\n",
      "    2.77777778e-01]\n",
      " [  2.39502000e+05   5.00000000e+05   0.00000000e+00   5.11734000e+05\n",
      "    0.00000000e+00]\n",
      " [  1.62779000e+05   1.00000000e+05   1.36237500e+06   1.36237500e+06\n",
      "    0.00000000e+00]\n",
      " [  2.57486000e+05   7.00000000e+05   0.00000000e+00   6.98920000e+05\n",
      "    3.42105263e-01]\n",
      " [  2.65214000e+05   6.00000000e+05   3.18125000e+06   3.74504800e+06\n",
      "    0.00000000e+00]\n",
      " [  2.22093000e+05   0.00000000e+00   4.45247600e+06   4.81779600e+06\n",
      "    0.00000000e+00]\n",
      " [  2.47338000e+05   3.00000000e+05   5.91250000e+05   1.16804200e+06\n",
      "    5.78947368e-01]\n",
      " [  2.88589000e+05   7.88750000e+05   0.00000000e+00   0.00000000e+00\n",
      "    0.00000000e+00]\n",
      " [  0.00000000e+00   0.00000000e+00   0.00000000e+00   0.00000000e+00\n",
      "    0.00000000e+00]\n",
      " [  0.00000000e+00   0.00000000e+00   0.00000000e+00   0.00000000e+00\n",
      "    0.00000000e+00]\n",
      " [  3.57091000e+05   8.50000000e+05   4.34654400e+06   5.89899700e+06\n",
      "    0.00000000e+00]\n",
      " [  0.00000000e+00   0.00000000e+00   1.03032900e+06   1.03032900e+06\n",
      "    0.00000000e+00]\n",
      " [  2.59996000e+05   3.25000000e+05   1.66826000e+06   2.05642700e+06\n",
      "    2.33333333e-01]\n",
      " [  6.37440000e+04   0.00000000e+00   0.00000000e+00   3.84930000e+05\n",
      "    0.00000000e+00]\n",
      " [  0.00000000e+00   0.00000000e+00   9.87180000e+04   9.87180000e+04\n",
      "    0.00000000e+00]\n",
      " [  5.10364000e+05   3.00000000e+06   3.28296000e+06   6.07913700e+06\n",
      "    4.31654676e-02]\n",
      " [  3.17543000e+05   4.50000000e+05   1.29704900e+06   1.51441230e+07\n",
      "    0.00000000e+00]\n",
      " [  0.00000000e+00   0.00000000e+00   0.00000000e+00   0.00000000e+00\n",
      "    0.00000000e+00]\n",
      " [  0.00000000e+00   0.00000000e+00   0.00000000e+00   0.00000000e+00\n",
      "    0.00000000e+00]\n",
      " [  0.00000000e+00   0.00000000e+00   1.39130000e+05   1.39130000e+05\n",
      "    0.00000000e+00]\n",
      " [  1.58403000e+05   0.00000000e+00   8.30855200e+06   1.18847580e+07\n",
      "    0.00000000e+00]\n",
      " [  0.00000000e+00   0.00000000e+00   1.92758000e+05   1.92758000e+05\n",
      "    0.00000000e+00]]\n"
     ]
    }
   ],
   "source": [
    "### Task 1: Select what features you'll use.\n",
    "### features_list is a list of strings, each of which is a feature name.\n",
    "### The first feature must be \"poi\".\n",
    "data = featureFormat(my_dataset, features_list,sort_keys=True)\n",
    "labels, features = targetFeatureSplit(data)\n",
    "\n",
    "selector = SelectKBest(k=5)\n",
    "selector.fit(features,labels)\n",
    "features_new = selector.transform(features)\n",
    "\n",
    "# 选取了表现最好的前5个feature\n",
    "print(selector.scores_)\n",
    "\n",
    "features_new.shape\n",
    "features_new_list = [features_list[i+1] for i in selector.get_support(indices=True)]\n",
    "features_new_list_poi = ['poi'] + features_new_list\n",
    "\n",
    "\n",
    "print(features_new)"
   ]
  },
  {
   "cell_type": "markdown",
   "metadata": {},
   "source": [
    "### 进行特征缩放"
   ]
  },
  {
   "cell_type": "code",
   "execution_count": 6,
   "metadata": {
    "collapsed": false
   },
   "outputs": [],
   "source": [
    "from sklearn.preprocessing import MinMaxScaler\n",
    "scaler = MinMaxScaler()\n",
    "\n",
    "# features = scaler.fit_transform(features_new)\n",
    "\n",
    "\n",
    "\n"
   ]
  },
  {
   "cell_type": "markdown",
   "metadata": {},
   "source": [
    "### 用k折交叉验证划分训练集和测试集"
   ]
  },
  {
   "cell_type": "code",
   "execution_count": 31,
   "metadata": {
    "collapsed": false
   },
   "outputs": [],
   "source": [
    "### Task 5: Tune your classifier to achieve better than .3 precision and recall \n",
    "### using our testing script. Check the tester.py script in the final project\n",
    "### folder for details on the evaluation method, especially the test_classifier\n",
    "### function. Because of the small size of the dataset, the script uses\n",
    "### stratified shuffle split cross validation. For more info: \n",
    "### http://scikit-learn.org/stable/modules/generated/sklearn.cross_validation.StratifiedShuffleSplit.html\n",
    "\n",
    "# Example starting point. Try investigating other evaluation techniques!\n",
    "# from sklearn.model_selection import train_test_split\n",
    "# features_train, features_test, labels_train, labels_test = \\\n",
    "#     train_test_split(features, labels, test_size=0.3, random_state=42)\n",
    "\n",
    "labels = np.asarray(labels)\n",
    "\n",
    "# from sklearn.model_selection import StratifiedShuffleSplit\n",
    "# sss = StratifiedShuffleSplit()\n",
    "\n",
    "from sklearn.model_selection import KFold\n",
    "kf = KFold(n_splits=2,shuffle=True)\n",
    "\n",
    "# for train_index,test_index in kf.split(features):\n",
    "#     print(\"TRAIN\",train_index,'\\n','TEST',test_index)\n",
    "#     features_train, features_test = features[train_index], features[test_index]\n",
    "#     labels_train, labels_test = labels[train_index], labels[test_index]"
   ]
  },
  {
   "cell_type": "markdown",
   "metadata": {},
   "source": [
    "### 分类算法"
   ]
  },
  {
   "cell_type": "markdown",
   "metadata": {},
   "source": [
    "#### SVM"
   ]
  },
  {
   "cell_type": "code",
   "execution_count": 34,
   "metadata": {
    "collapsed": false,
    "scrolled": false
   },
   "outputs": [
    {
     "name": "stdout",
     "output_type": "stream",
     "text": [
      "0.895104895105\n",
      "Wall time: 33 ms\n"
     ]
    }
   ],
   "source": [
    "%%time\n",
    "from sklearn.svm import SVC\n",
    "parms = {'svc__kernel':('linear','rbf'),'svc__C':[1.0,2.0]}\n",
    "clf = SVC()\n",
    "\n",
    "pipeline1 = Pipeline([('scaler',scaler),('svc',clf)])\n",
    "# a = pipeline.fit(features_train,labels_train)\n",
    "gs = GridSearchCV(pipeline1,parms,cv=kf)\n",
    "gs.fit(features_new,labels)\n",
    "\n",
    "clf = gs.best_estimator_\n",
    "\n",
    "# clf = clf.fit(features_train,labels_train)\n",
    "# clf = clf.best_estimator_\n",
    "# pred = clf.predict(features_test)\n",
    "\n",
    "print(clf.score(features_new,labels))\n",
    "\n",
    "\n"
   ]
  },
  {
   "cell_type": "markdown",
   "metadata": {},
   "source": [
    "#### 测试得分"
   ]
  },
  {
   "cell_type": "code",
   "execution_count": 35,
   "metadata": {
    "collapsed": false,
    "scrolled": false
   },
   "outputs": [
    {
     "name": "stdout",
     "output_type": "stream",
     "text": [
      "Pipeline(steps=[('scaler', MinMaxScaler(copy=True, feature_range=(0, 1))), ('svc', SVC(C=1.0, cache_size=200, class_weight=None, coef0=0.0,\n",
      "  decision_function_shape=None, degree=3, gamma='auto', kernel='linear',\n",
      "  max_iter=-1, probability=False, random_state=None, shrinking=True,\n",
      "  tol=0.001, verbose=False))])\n",
      "\tAccuracy: 0.86007\tPrecision: 0.90196\tRecall: 0.02300\tF1: 0.04486\tF2: 0.02857\n",
      "\tTotal predictions: 14000\tTrue positives:   46\tFalse positives:    5\tFalse negatives: 1954\tTrue negatives: 11995\n",
      "\n",
      "Wall time: 1.27 s\n"
     ]
    }
   ],
   "source": [
    "%%time\n",
    "test_classifier(clf,my_dataset,features_new_list_poi)"
   ]
  },
  {
   "cell_type": "markdown",
   "metadata": {},
   "source": [
    "#### 决策树"
   ]
  },
  {
   "cell_type": "code",
   "execution_count": 18,
   "metadata": {
    "collapsed": false,
    "scrolled": true
   },
   "outputs": [
    {
     "name": "stdout",
     "output_type": "stream",
     "text": [
      "0.979020979021\n",
      "Wall time: 3.11 s\n"
     ]
    }
   ],
   "source": [
    "%%time\n",
    "# from sklearn.tree import DecisionTreeClassifier\n",
    "from sklearn.ensemble import RandomForestClassifier\n",
    "\n",
    "parms = {'rfc__n_estimators':range(10,40,10),'rfc__max_depth':range(3,9,2)}\n",
    "clf = RandomForestClassifier()\n",
    "# clf = DecisionTreeClassifier()\n",
    "\n",
    "pipeline2 = Pipeline([('scaler',scaler),('rfc',clf)])\n",
    "gs = GridSearchCV(pipeline2,parms,cv=kf)\n",
    "gs.fit(features_new,labels)\n",
    "\n",
    "clf = gs.best_estimator_\n",
    "\n",
    "# pred = clf.predict(features_test)\n",
    "print(clf.score(features_new,labels))\n"
   ]
  },
  {
   "cell_type": "markdown",
   "metadata": {},
   "source": [
    "#### 测试得分"
   ]
  },
  {
   "cell_type": "code",
   "execution_count": 19,
   "metadata": {
    "collapsed": false,
    "scrolled": false
   },
   "outputs": [
    {
     "name": "stdout",
     "output_type": "stream",
     "text": [
      "Pipeline(steps=[('scaler', MinMaxScaler(copy=True, feature_range=(0, 1))), ('rfc', RandomForestClassifier(bootstrap=True, class_weight=None, criterion='gini',\n",
      "            max_depth=5, max_features='auto', max_leaf_nodes=None,\n",
      "            min_impurity_split=1e-07, min_samples_leaf=1,\n",
      "            min_samples_split=2, min_weight_fraction_leaf=0.0,\n",
      "            n_estimators=30, n_jobs=1, oob_score=False, random_state=None,\n",
      "            verbose=0, warm_start=False))])\n",
      "\tAccuracy: 0.85464\tPrecision: 0.48112\tRecall: 0.22300\tF1: 0.30475\tF2: 0.24980\n",
      "\tTotal predictions: 14000\tTrue positives:  446\tFalse positives:  481\tFalse negatives: 1554\tTrue negatives: 11519\n",
      "\n",
      "Wall time: 43.3 s\n"
     ]
    }
   ],
   "source": [
    "%%time\n",
    "test_classifier(clf,my_dataset,features_new_list_poi)"
   ]
  },
  {
   "cell_type": "markdown",
   "metadata": {},
   "source": [
    "#### 朴素贝叶斯"
   ]
  },
  {
   "cell_type": "code",
   "execution_count": 32,
   "metadata": {
    "collapsed": false
   },
   "outputs": [
    {
     "data": {
      "text/plain": [
       "0.88111888111888115"
      ]
     },
     "execution_count": 32,
     "metadata": {},
     "output_type": "execute_result"
    }
   ],
   "source": [
    "\n",
    "### Task 4: Try a varity of classifiers\n",
    "### Please name your classifier clf for easy export below.\n",
    "### Note that if you want to do PCA or other multi-stage operations,\n",
    "### you'll need to use Pipelines. For more info:\n",
    "### http://scikit-learn.org/stable/modules/pipeline.html\n",
    "\n",
    "# Provided to give you a starting point. Try a variety of classifiers.\n",
    "\n",
    "from sklearn.naive_bayes import GaussianNB\n",
    "clf = GaussianNB()\n",
    "parm = {}\n",
    "\n",
    "clf = Pipeline([('scaler',scaler),('gnb',clf)])\n",
    "gs = GridSearchCV(clf,parm,cv=kf)\n",
    "gs.fit(features_new,labels)\n",
    "\n",
    "clf = gs.best_estimator_\n",
    "\n",
    "# clf = clf.fit(features_train,labels_train)\n",
    "# pred = clf.predict(features_test)\n",
    "# clf.score(features_test,labels_test)\n",
    "\n",
    "clf.score(features_new,labels)"
   ]
  },
  {
   "cell_type": "markdown",
   "metadata": {},
   "source": [
    "#### 测试得分"
   ]
  },
  {
   "cell_type": "code",
   "execution_count": 33,
   "metadata": {
    "collapsed": false,
    "scrolled": true
   },
   "outputs": [
    {
     "name": "stdout",
     "output_type": "stream",
     "text": [
      "Pipeline(steps=[('scaler', MinMaxScaler(copy=True, feature_range=(0, 1))), ('gnb', GaussianNB(priors=None))])\n",
      "\tAccuracy: 0.84879\tPrecision: 0.45558\tRecall: 0.30000\tF1: 0.36177\tF2: 0.32199\n",
      "\tTotal predictions: 14000\tTrue positives:  600\tFalse positives:  717\tFalse negatives: 1400\tTrue negatives: 11283\n",
      "\n"
     ]
    }
   ],
   "source": [
    "\n",
    "test_classifier(clf,my_dataset,features_new_list_poi)"
   ]
  },
  {
   "cell_type": "markdown",
   "metadata": {},
   "source": [
    "### 存储"
   ]
  },
  {
   "cell_type": "code",
   "execution_count": 14,
   "metadata": {
    "collapsed": false
   },
   "outputs": [],
   "source": [
    "### Task 6: Dump your classifier, dataset, and features_list so anyone can\n",
    "### check your results. You do not need to change anything below, but make sure\n",
    "### that the version of poi_id.py that you submit can be run on its own and\n",
    "### generates the necessary .pkl files for validating your results.\n",
    "\n",
    "dump_classifier_and_data(clf, my_dataset, features_new_list)"
   ]
  }
 ],
 "metadata": {
  "kernelspec": {
   "display_name": "Python 3",
   "language": "python",
   "name": "python3"
  },
  "language_info": {
   "codemirror_mode": {
    "name": "ipython",
    "version": 3
   },
   "file_extension": ".py",
   "mimetype": "text/x-python",
   "name": "python",
   "nbconvert_exporter": "python",
   "pygments_lexer": "ipython3",
   "version": "3.6.1"
  }
 },
 "nbformat": 4,
 "nbformat_minor": 2
}
