{
 "cells": [
  {
   "cell_type": "markdown",
   "metadata": {},
   "source": [
    "### 载入数据"
   ]
  },
  {
   "cell_type": "code",
   "execution_count": 1,
   "metadata": {
    "collapsed": false,
    "scrolled": true
   },
   "outputs": [
    {
     "name": "stderr",
     "output_type": "stream",
     "text": [
      "D:\\Anaconda3\\lib\\site-packages\\sklearn\\cross_validation.py:44: DeprecationWarning: This module was deprecated in version 0.18 in favor of the model_selection module into which all the refactored classes and functions are moved. Also note that the interface of the new CV iterators are different from that of this module. This module will be removed in 0.20.\n",
      "  \"This module will be removed in 0.20.\", DeprecationWarning)\n"
     ]
    },
    {
     "ename": "FileNotFoundError",
     "evalue": "[Errno 2] No such file or directory: 'final_project_dataset.pkl'",
     "output_type": "error",
     "traceback": [
      "\u001b[0;31m---------------------------------------------------------------------------\u001b[0m",
      "\u001b[0;31mFileNotFoundError\u001b[0m                         Traceback (most recent call last)",
      "\u001b[0;32m<ipython-input-1-a81c7a0a6afb>\u001b[0m in \u001b[0;36m<module>\u001b[0;34m()\u001b[0m\n\u001b[1;32m     12\u001b[0m \u001b[1;33m\u001b[0m\u001b[0m\n\u001b[1;32m     13\u001b[0m \u001b[1;31m### Load the dictionary containing the dataset\u001b[0m\u001b[1;33m\u001b[0m\u001b[1;33m\u001b[0m\u001b[0m\n\u001b[0;32m---> 14\u001b[0;31m \u001b[1;32mwith\u001b[0m \u001b[0mopen\u001b[0m\u001b[1;33m(\u001b[0m\u001b[1;34m\"final_project_dataset.pkl\"\u001b[0m\u001b[1;33m,\u001b[0m \u001b[1;34m\"rb\"\u001b[0m\u001b[1;33m)\u001b[0m \u001b[1;32mas\u001b[0m \u001b[0mdata_file\u001b[0m\u001b[1;33m:\u001b[0m\u001b[1;33m\u001b[0m\u001b[0m\n\u001b[0m\u001b[1;32m     15\u001b[0m     \u001b[0mdata_dict\u001b[0m \u001b[1;33m=\u001b[0m \u001b[0mpickle\u001b[0m\u001b[1;33m.\u001b[0m\u001b[0mload\u001b[0m\u001b[1;33m(\u001b[0m\u001b[0mdata_file\u001b[0m\u001b[1;33m)\u001b[0m\u001b[1;33m\u001b[0m\u001b[0m\n",
      "\u001b[0;31mFileNotFoundError\u001b[0m: [Errno 2] No such file or directory: 'final_project_dataset.pkl'"
     ]
    }
   ],
   "source": [
    "import sys\n",
    "import pickle\n",
    "sys.path.append(r\"G:\\Udacity 数据分析（进阶）\\P5 机器学习\\ud120-projects-master\\tools\")\n",
    "sys.path.append(r\"G:\\Udacity 数据分析（进阶）\\P5 机器学习\\最终项目\") # ‘final_project_dataset.pkl’在该文件夹下\n",
    "from feature_format import featureFormat, targetFeatureSplit\n",
    "from tester import dump_classifier_and_data,test_classifier\n",
    "import matplotlib.pyplot\n",
    "from sklearn.feature_selection import SelectPercentile,SelectKBest\n",
    "import numpy as np\n",
    "import pandas as pd\n",
    "from sklearn.model_selection import GridSearchCV\n",
    "\n",
    "### Load the dictionary containing the dataset\n",
    "with open(\"final_project_dataset.pkl\", \"rb\") as data_file:\n",
    "    data_dict = pickle.load(data_file)\n"
   ]
  },
  {
   "cell_type": "markdown",
   "metadata": {},
   "source": [
    "### 理解数据集"
   ]
  },
  {
   "cell_type": "markdown",
   "metadata": {},
   "source": [
    "#### 数据点总数为146；特征总数为21；poi数量为18，非poi数量为128，该数据集非常不平衡，所以最终评估时应该使用Recall和Precision指标；有很多特征都存在缺失值"
   ]
  },
  {
   "cell_type": "code",
   "execution_count": 2,
   "metadata": {
    "collapsed": false,
    "scrolled": true
   },
   "outputs": [
    {
     "name": "stdout",
     "output_type": "stream",
     "text": [
      "数据点总数 146\n",
      "特征总数 21\n",
      "poi数量 18\n",
      "非poi数量 128\n"
     ]
    }
   ],
   "source": [
    "\n",
    "# 数据点总数\n",
    "print(\"数据点总数\",len(data_dict))\n",
    "\n",
    "# 特征总数\n",
    "print(\"特征总数\",len(data_dict['HANNON KEVIN P']))\n",
    "\n",
    "data_poi = []\n",
    "data_nan = []\n",
    "\n",
    "for i in data_dict:    \n",
    "    # poi及非poi数量\n",
    "    if data_dict[i]['poi'] == True:\n",
    "        data_poi.append(i)\n",
    "        \n",
    "    # 哪些特征存在缺失值\n",
    "    for ii,jj in data_dict[i].items():\n",
    "        if jj == \"NaN\":\n",
    "            data_nan.append(ii)\n",
    "\n",
    "print(\"poi数量\",len(data_poi))\n",
    "print(\"非poi数量\",len(data_dict)-len(data_poi))\n"
   ]
  },
  {
   "cell_type": "markdown",
   "metadata": {},
   "source": [
    "### 构造新特征"
   ]
  },
  {
   "cell_type": "markdown",
   "metadata": {},
   "source": [
    "#### 在特征选择时会对新特征性能进行测试"
   ]
  },
  {
   "cell_type": "code",
   "execution_count": 3,
   "metadata": {
    "collapsed": false,
    "scrolled": true
   },
   "outputs": [],
   "source": [
    "### Task 3: Create new feature(s)\n",
    "### Store to my_dataset for easy export below.\n",
    "my_dataset = data_dict\n",
    "\n",
    "def fraction(poi,all):\n",
    "    if all == 'NaN':\n",
    "        fraction_poi = 0\n",
    "    else:\n",
    "        fraction_poi = poi/all\n",
    "    return fraction_poi\n",
    "\n",
    "for i in data_dict:\n",
    "    my_dataset[i]['fraction_from_poi'] = fraction(my_dataset[i]['from_poi_to_this_person'],my_dataset[i]['to_messages'])\n",
    "    my_dataset[i]['fraction_to_poi'] = fraction(my_dataset[i]['from_this_person_to_poi'],my_dataset[i]['from_messages'])\n"
   ]
  },
  {
   "cell_type": "markdown",
   "metadata": {},
   "source": [
    "### 清除异常值"
   ]
  },
  {
   "cell_type": "markdown",
   "metadata": {},
   "source": [
    "#### 通过可视化，发现异常值为“TOTAL”，遂将其删除。此外还有“THE TRAVEL AGENCY IN THE PARK”，其不是一个人；“LOCKHART EUGENE E”其值全为‘NaN’"
   ]
  },
  {
   "cell_type": "code",
   "execution_count": 4,
   "metadata": {
    "collapsed": false
   },
   "outputs": [
    {
     "data": {
      "image/png": "[encoded data removed]",
      "text/plain": [
       "<matplotlib.figure.Figure at 0x19e4dca1e48>"
      ]
     },
     "metadata": {},
     "output_type": "display_data"
    },
    {
     "data": {
      "text/plain": [
       "{'bonus': 'NaN',\n",
       " 'deferral_payments': 'NaN',\n",
       " 'deferred_income': 'NaN',\n",
       " 'director_fees': 'NaN',\n",
       " 'email_address': 'NaN',\n",
       " 'exercised_stock_options': 'NaN',\n",
       " 'expenses': 'NaN',\n",
       " 'fraction_from_poi': 0,\n",
       " 'fraction_to_poi': 0,\n",
       " 'from_messages': 'NaN',\n",
       " 'from_poi_to_this_person': 'NaN',\n",
       " 'from_this_person_to_poi': 'NaN',\n",
       " 'loan_advances': 'NaN',\n",
       " 'long_term_incentive': 'NaN',\n",
       " 'other': 362096,\n",
       " 'poi': False,\n",
       " 'restricted_stock': 'NaN',\n",
       " 'restricted_stock_deferred': 'NaN',\n",
       " 'salary': 'NaN',\n",
       " 'shared_receipt_with_poi': 'NaN',\n",
       " 'to_messages': 'NaN',\n",
       " 'total_payments': 362096,\n",
       " 'total_stock_value': 'NaN'}"
      ]
     },
     "execution_count": 4,
     "metadata": {},
     "output_type": "execute_result"
    }
   ],
   "source": [
    "### Task 2: Remove outliers\n",
    "%matplotlib inline\n",
    "\n",
    "features_list = ['poi','salary','bonus','total_payments','deferral_payments','exercised_stock_options',\\\n",
    "                     'restricted_stock','restricted_stock_deferred','total_stock_value','expenses',\\\n",
    "                     'other','director_fees','loan_advances','deferred_income','long_term_incentive',\\\n",
    "                     'from_poi_to_this_person','from_this_person_to_poi','to_messages','from_messages',\\\n",
    "                     'shared_receipt_with_poi','fraction_from_poi','fraction_to_poi'] # You will need to use more features\n",
    "\n",
    "data = featureFormat(my_dataset, features_list,sort_keys=True)\n",
    "labels, features = targetFeatureSplit(data)\n",
    "\n",
    "for point in data:\n",
    "    salary = point[1]\n",
    "    bonus = point[2]\n",
    "    matplotlib.pyplot.scatter( salary, bonus )\n",
    "#     print(salary,bonus)\n",
    "matplotlib.pyplot.xlabel(\"salary\")\n",
    "matplotlib.pyplot.ylabel(\"bonus\")\n",
    "matplotlib.pyplot.show()\n",
    "my_dataset.pop(\"TOTAL\")\n",
    "my_dataset.pop(\"LOCKHART EUGENE E\")\n",
    "my_dataset.pop(\"THE TRAVEL AGENCY IN THE PARK\")"
   ]
  },
  {
   "cell_type": "markdown",
   "metadata": {},
   "source": [
    "### 特征选择"
   ]
  },
  {
   "cell_type": "markdown",
   "metadata": {},
   "source": [
    "#### 通过打印特征得分可以得出新特征得分分别为 3.21 及 16.64"
   ]
  },
  {
   "cell_type": "code",
   "execution_count": 5,
   "metadata": {
    "collapsed": false,
    "scrolled": false
   },
   "outputs": [
    {
     "name": "stdout",
     "output_type": "stream",
     "text": [
      "[ 18.28968404  20.79225205   8.77277773   0.22461127  24.81507973\n",
      "   9.21281062   0.06549965  24.18289868   6.09417331   4.18747751\n",
      "   2.1263278    7.18405566  11.45847658   9.92218601   5.24344971\n",
      "   2.38261211   1.64634113   0.16970095   8.58942073   3.12809175\n",
      "  16.40971255]\n"
     ]
    },
    {
     "data": {
      "text/plain": [
       "['poi',\n",
       " 'salary',\n",
       " 'bonus',\n",
       " 'exercised_stock_options',\n",
       " 'total_stock_value',\n",
       " 'fraction_to_poi']"
      ]
     },
     "execution_count": 5,
     "metadata": {},
     "output_type": "execute_result"
    }
   ],
   "source": [
    "### Task 1: Select what features you'll use.\n",
    "### features_list is a list of strings, each of which is a feature name.\n",
    "### The first feature must be \"poi\".\n",
    "data = featureFormat(my_dataset, features_list,sort_keys=True)\n",
    "labels, features = targetFeatureSplit(data)\n",
    "\n",
    "# selector = SelectPercentile(percentile=10)\n",
    "# selector.fit(features,labels)\n",
    "# features_new = selector.transform(features)\n",
    "\n",
    "selector = SelectKBest(k=5)\n",
    "selector.fit(features,labels)\n",
    "features_new = selector.transform(features)\n",
    "\n",
    "# 选取了表现最好的前20%个feature\n",
    "print(selector.scores_)\n",
    "\n",
    "features_new.shape\n",
    "\n",
    "\n",
    "# features_new_list = ['poi','shared_receipt_with_poi','fraction_to_poi','fraction_from_poi','from_poi_to_this_person']\n",
    "# features_new_list = ['poi','loan_advances','director_fees','shared_receipt_with_poi','from_this_person_to_poi',\\\n",
    "# 'from_poi_to_this_person','bonus','deferred_income','total_stock_value']\n",
    "# features_new_list = ['poi','deferral_payments','restricted_stock_deferred']\n",
    "# features_new\n",
    "features_new_list = [features_list[i+1] for i in selector.get_support(indices=True)]\n",
    "features_new_list = ['poi'] + features_new_list\n",
    "features_new_list"
   ]
  },
  {
   "cell_type": "markdown",
   "metadata": {},
   "source": [
    "### 进行特征缩放"
   ]
  },
  {
   "cell_type": "code",
   "execution_count": 6,
   "metadata": {
    "collapsed": false,
    "scrolled": true
   },
   "outputs": [],
   "source": [
    "from sklearn.preprocessing import MinMaxScaler\n",
    "min_max_scaler = MinMaxScaler()\n",
    "features = min_max_scaler.fit_transform(features_new)\n"
   ]
  },
  {
   "cell_type": "markdown",
   "metadata": {},
   "source": [
    "### 用k折交叉验证划分训练集和测试集"
   ]
  },
  {
   "cell_type": "code",
   "execution_count": 7,
   "metadata": {
    "collapsed": false,
    "scrolled": true
   },
   "outputs": [
    {
     "name": "stdout",
     "output_type": "stream",
     "text": [
      "TRAIN [  0   1   3   6   7   8  10  12  14  15  17  20  22  23  26  33  37  38\n",
      "  39  41  42  43  44  45  46  48  50  54  55  56  57  58  59  60  62  64\n",
      "  68  69  70  71  73  74  75  76  77  78  80  81  84  87  88  89  92  94\n",
      "  96  98  99 101 102 103 104 106 108 111 112 113 115 124 130 136 142] \n",
      " TEST [  2   4   5   9  11  13  16  18  19  21  24  25  27  28  29  30  31  32\n",
      "  34  35  36  40  47  49  51  52  53  61  63  65  66  67  72  79  82  83\n",
      "  85  86  90  91  93  95  97 100 105 107 109 110 114 116 117 118 119 120\n",
      " 121 122 123 125 126 127 128 129 131 132 133 134 135 137 138 139 140 141]\n",
      "TRAIN [  2   4   5   9  11  13  16  18  19  21  24  25  27  28  29  30  31  32\n",
      "  34  35  36  40  47  49  51  52  53  61  63  65  66  67  72  79  82  83\n",
      "  85  86  90  91  93  95  97 100 105 107 109 110 114 116 117 118 119 120\n",
      " 121 122 123 125 126 127 128 129 131 132 133 134 135 137 138 139 140 141] \n",
      " TEST [  0   1   3   6   7   8  10  12  14  15  17  20  22  23  26  33  37  38\n",
      "  39  41  42  43  44  45  46  48  50  54  55  56  57  58  59  60  62  64\n",
      "  68  69  70  71  73  74  75  76  77  78  80  81  84  87  88  89  92  94\n",
      "  96  98  99 101 102 103 104 106 108 111 112 113 115 124 130 136 142]\n"
     ]
    }
   ],
   "source": [
    "### Task 5: Tune your classifier to achieve better than .3 precision and recall \n",
    "### using our testing script. Check the tester.py script in the final project\n",
    "### folder for details on the evaluation method, especially the test_classifier\n",
    "### function. Because of the small size of the dataset, the script uses\n",
    "### stratified shuffle split cross validation. For more info: \n",
    "### http://scikit-learn.org/stable/modules/generated/sklearn.cross_validation.StratifiedShuffleSplit.html\n",
    "\n",
    "# Example starting point. Try investigating other evaluation techniques!\n",
    "# from sklearn.model_selection import train_test_split\n",
    "# features_train, features_test, labels_train, labels_test = \\\n",
    "#     train_test_split(features, labels, test_size=0.3, random_state=42)\n",
    "\n",
    "labels = np.asarray(labels)\n",
    "\n",
    "from sklearn.model_selection import KFold\n",
    "kf = KFold(n_splits=2,shuffle=True)\n",
    "kf.get_n_splits(features)\n",
    "for train_index,test_index in kf.split(features):\n",
    "    print(\"TRAIN\",train_index,'\\n','TEST',test_index)\n",
    "    features_train, features_test = features[train_index], features[test_index]\n",
    "    labels_train, labels_test = labels[train_index], labels[test_index]"
   ]
  },
  {
   "cell_type": "markdown",
   "metadata": {},
   "source": [
    "### 分类算法"
   ]
  },
  {
   "cell_type": "markdown",
   "metadata": {},
   "source": [
    "#### SVM"
   ]
  },
  {
   "cell_type": "code",
   "execution_count": 19,
   "metadata": {
    "collapsed": false,
    "scrolled": true
   },
   "outputs": [
    {
     "name": "stdout",
     "output_type": "stream",
     "text": [
      "Wall time: 29 ms\n"
     ]
    }
   ],
   "source": [
    "%%time\n",
    "from sklearn.svm import SVC\n",
    "parms = {'kernel':('linear','rbf'),'C':[1.0,2.0]}\n",
    "clf = SVC()\n",
    "clfg = GridSearchCV(clf,parms)\n",
    "clf = clfg.fit(features_train,labels_train)\n",
    "pred = clf.predict(features_test)\n",
    "clf.score(features_test,labels_test)"
   ]
  },
  {
   "cell_type": "markdown",
   "metadata": {},
   "source": [
    "#### 测试得分"
   ]
  },
  {
   "cell_type": "code",
   "execution_count": null,
   "metadata": {
    "collapsed": false,
    "scrolled": false
   },
   "outputs": [],
   "source": [
    "%%time\n",
    "test_classifier(clf,my_dataset,features_new_list)"
   ]
  },
  {
   "cell_type": "markdown",
   "metadata": {},
   "source": [
    "#### 决策树"
   ]
  },
  {
   "cell_type": "code",
   "execution_count": 16,
   "metadata": {
    "collapsed": false
   },
   "outputs": [
    {
     "name": "stdout",
     "output_type": "stream",
     "text": [
      "0.87323943662\n",
      "Wall time: 870 ms\n"
     ]
    }
   ],
   "source": [
    "%%time\n",
    "# from sklearn.tree import DecisionTreeClassifier\n",
    "from sklearn.ensemble import RandomForestClassifier\n",
    "parms = {'n_estimators':range(10,40,10),'max_depth':range(3,9,2)}\n",
    "clf = RandomForestClassifier()\n",
    "# clf = DecisionTreeClassifier()\n",
    "clf = GridSearchCV(clf,parms)\n",
    "clf = clf.fit(features_train,labels_train)\n",
    "pred = clf.predict(features_test)\n",
    "print(clf.score(features_test,labels_test))"
   ]
  },
  {
   "cell_type": "markdown",
   "metadata": {},
   "source": [
    "#### 测试得分"
   ]
  },
  {
   "cell_type": "code",
   "execution_count": 17,
   "metadata": {
    "collapsed": false,
    "scrolled": true
   },
   "outputs": [
    {
     "name": "stdout",
     "output_type": "stream",
     "text": [
      "GridSearchCV(cv=None, error_score='raise',\n",
      "       estimator=RandomForestClassifier(bootstrap=True, class_weight=None, criterion='gini',\n",
      "            max_depth=None, max_features='auto', max_leaf_nodes=None,\n",
      "            min_impurity_split=1e-07, min_samples_leaf=1,\n",
      "            min_samples_split=2, min_weight_fraction_leaf=0.0,\n",
      "            n_estimators=10, n_jobs=1, oob_score=False, random_state=None,\n",
      "            verbose=0, warm_start=False),\n",
      "       fit_params={}, iid=True, n_jobs=1,\n",
      "       param_grid={'n_estimators': range(10, 40, 10), 'max_depth': range(3, 9, 2)},\n",
      "       pre_dispatch='2*n_jobs', refit=True, return_train_score=True,\n",
      "       scoring=None, verbose=0)\n",
      "\tAccuracy: 0.85186\tPrecision: 0.45786\tRecall: 0.20100\tF1: 0.27936\tF2: 0.22640\n",
      "\tTotal predictions: 14000\tTrue positives:  402\tFalse positives:  476\tFalse negatives: 1598\tTrue negatives: 11524\n",
      "\n",
      "Wall time: 14min 56s\n"
     ]
    }
   ],
   "source": [
    "%%time\n",
    "test_classifier(clf,my_dataset,features_new_list)"
   ]
  },
  {
   "cell_type": "markdown",
   "metadata": {},
   "source": [
    "#### 朴素贝叶斯"
   ]
  },
  {
   "cell_type": "code",
   "execution_count": 9,
   "metadata": {
    "collapsed": false
   },
   "outputs": [
    {
     "data": {
      "text/plain": [
       "0.77464788732394363"
      ]
     },
     "execution_count": 9,
     "metadata": {},
     "output_type": "execute_result"
    }
   ],
   "source": [
    "\n",
    "### Task 4: Try a varity of classifiers\n",
    "### Please name your classifier clf for easy export below.\n",
    "### Note that if you want to do PCA or other multi-stage operations,\n",
    "### you'll need to use Pipelines. For more info:\n",
    "### http://scikit-learn.org/stable/modules/pipeline.html\n",
    "\n",
    "# Provided to give you a starting point. Try a variety of classifiers.\n",
    "\n",
    "from sklearn.naive_bayes import GaussianNB\n",
    "clf = GaussianNB()\n",
    "clf = clf.fit(features_train,labels_train)\n",
    "pred = clf.predict(features_test)\n",
    "clf.score(features_test,labels_test)\n"
   ]
  },
  {
   "cell_type": "markdown",
   "metadata": {},
   "source": [
    "#### 测试得分"
   ]
  },
  {
   "cell_type": "code",
   "execution_count": 10,
   "metadata": {
    "collapsed": false,
    "scrolled": true
   },
   "outputs": [
    {
     "name": "stdout",
     "output_type": "stream",
     "text": [
      "GaussianNB(priors=None)\n",
      "\tAccuracy: 0.85629\tPrecision: 0.49545\tRecall: 0.32650\tF1: 0.39361\tF2: 0.35040\n",
      "\tTotal predictions: 14000\tTrue positives:  653\tFalse positives:  665\tFalse negatives: 1347\tTrue negatives: 11335\n",
      "\n"
     ]
    }
   ],
   "source": [
    "\n",
    "test_classifier(clf,my_dataset,features_new_list)"
   ]
  },
  {
   "cell_type": "markdown",
   "metadata": {},
   "source": [
    "### 存储"
   ]
  },
  {
   "cell_type": "code",
   "execution_count": 11,
   "metadata": {
    "collapsed": false
   },
   "outputs": [],
   "source": [
    "### Task 6: Dump your classifier, dataset, and features_list so anyone can\n",
    "### check your results. You do not need to change anything below, but make sure\n",
    "### that the version of poi_id.py that you submit can be run on its own and\n",
    "### generates the necessary .pkl files for validating your results.\n",
    "\n",
    "dump_classifier_and_data(clf, my_dataset, features_new_list)"
   ]
  }
 ],
 "metadata": {
  "kernelspec": {
   "display_name": "Python 3",
   "language": "python",
   "name": "python3"
  },
  "language_info": {
   "codemirror_mode": {
    "name": "ipython",
    "version": 3
   },
   "file_extension": ".py",
   "mimetype": "text/x-python",
   "name": "python",
   "nbconvert_exporter": "python",
   "pygments_lexer": "ipython3",
   "version": "3.6.1"
  }
 },
 "nbformat": 4,
 "nbformat_minor": 2
}
